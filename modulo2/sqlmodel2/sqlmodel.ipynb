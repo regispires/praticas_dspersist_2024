{
 "cells": [
  {
   "cell_type": "code",
   "execution_count": 9,
   "metadata": {},
   "outputs": [],
   "source": [
    "from sqlalchemy.orm import joinedload, selectinload\n",
    "from sqlmodel import create_engine, Session, SQLModel, select\n",
    "from dotenv import load_dotenv\n",
    "import logging\n",
    "import os\n",
    "from modelos.post import Post, PostBaseWithUserCommentsTags"
   ]
  },
  {
   "cell_type": "code",
   "execution_count": 2,
   "metadata": {},
   "outputs": [],
   "source": [
    "logging.basicConfig()\n",
    "logging.getLogger(\"sqlalchemy.engine\").setLevel(logging.INFO)"
   ]
  },
  {
   "cell_type": "code",
   "execution_count": 3,
   "metadata": {},
   "outputs": [
    {
     "name": "stderr",
     "output_type": "stream",
     "text": [
      "INFO:sqlalchemy.engine.Engine:BEGIN (implicit)\n",
      "INFO:sqlalchemy.engine.Engine:PRAGMA main.table_info(\"comment\")\n",
      "INFO:sqlalchemy.engine.Engine:[raw sql] ()\n",
      "INFO:sqlalchemy.engine.Engine:PRAGMA main.table_info(\"user\")\n",
      "INFO:sqlalchemy.engine.Engine:[raw sql] ()\n",
      "INFO:sqlalchemy.engine.Engine:PRAGMA main.table_info(\"tag\")\n",
      "INFO:sqlalchemy.engine.Engine:[raw sql] ()\n",
      "INFO:sqlalchemy.engine.Engine:PRAGMA main.table_info(\"posttag\")\n",
      "INFO:sqlalchemy.engine.Engine:[raw sql] ()\n",
      "INFO:sqlalchemy.engine.Engine:PRAGMA main.table_info(\"post\")\n",
      "INFO:sqlalchemy.engine.Engine:[raw sql] ()\n",
      "INFO:sqlalchemy.engine.Engine:COMMIT\n"
     ]
    }
   ],
   "source": [
    "load_dotenv()\n",
    "engine = create_engine(os.getenv(\"DATABASE_URL\"))\n",
    "SQLModel.metadata.create_all(engine)"
   ]
  },
  {
   "cell_type": "code",
   "execution_count": 16,
   "metadata": {},
   "outputs": [
    {
     "name": "stderr",
     "output_type": "stream",
     "text": [
      "INFO:sqlalchemy.engine.Engine:BEGIN (implicit)\n",
      "INFO:sqlalchemy.engine.Engine:SELECT post.id AS post_id, post.title AS post_title, post.content AS post_content, post.created_at AS post_created_at, post.updated_at AS post_updated_at, post.user_id AS post_user_id \n",
      "FROM post \n",
      "WHERE post.id = ?\n",
      "INFO:sqlalchemy.engine.Engine:[generated in 0.00375s] (1,)\n",
      "INFO:sqlalchemy.engine.Engine:SELECT comment.id AS comment_id, comment.content AS comment_content, comment.created_at AS comment_created_at, comment.updated_at AS comment_updated_at, comment.post_id AS comment_post_id, comment.user_id AS comment_user_id \n",
      "FROM comment \n",
      "WHERE ? = comment.post_id\n",
      "INFO:sqlalchemy.engine.Engine:[generated in 0.00084s] (1,)\n",
      "INFO:sqlalchemy.engine.Engine:SELECT user.id AS user_id, user.name AS user_name, user.email AS user_email \n",
      "FROM user \n",
      "WHERE user.id = ?\n",
      "INFO:sqlalchemy.engine.Engine:[generated in 0.00072s] (1,)\n",
      "INFO:sqlalchemy.engine.Engine:SELECT tag.id AS tag_id, tag.name AS tag_name \n",
      "FROM tag, posttag \n",
      "WHERE ? = posttag.post_id AND tag.id = posttag.tag_id\n",
      "INFO:sqlalchemy.engine.Engine:[generated in 0.00078s] (1,)\n",
      "INFO:sqlalchemy.engine.Engine:ROLLBACK\n"
     ]
    },
    {
     "name": "stdout",
     "output_type": "stream",
     "text": [
      "[Comment(id=1, created_at=datetime.datetime(2025, 1, 12, 19, 24, 31, 403369), content='Commentário 1', post_id=1, updated_at=datetime.datetime(2025, 1, 12, 19, 24, 31, 403382), user_id=1), Comment(id=2, created_at=datetime.datetime(2025, 1, 12, 19, 25, 4, 426501), content='Commentário 2', post_id=1, updated_at=datetime.datetime(2025, 1, 12, 19, 25, 4, 426516), user_id=2), Comment(id=3, created_at=datetime.datetime(2025, 1, 12, 19, 25, 10, 911482), content='Commentário 3', post_id=1, updated_at=datetime.datetime(2025, 1, 12, 19, 25, 10, 911493), user_id=3), Comment(id=4, created_at=datetime.datetime(2025, 1, 12, 19, 25, 28, 470366), content='Commentário 4', post_id=1, updated_at=datetime.datetime(2025, 1, 12, 19, 25, 28, 470381), user_id=4), Comment(id=5, created_at=datetime.datetime(2025, 1, 12, 19, 46, 42, 435486), content='Commentário 5', post_id=1, updated_at=datetime.datetime(2025, 1, 12, 19, 46, 42, 435501), user_id=2)]\n",
      "id=1 email='joão@gmail.com' name='João'\n",
      "[Tag(id=1, name='geral'), Tag(id=2, name='TI'), Tag(id=3, name='IA'), Tag(id=4, name='teste'), Tag(id=5, name='teste2'), Tag(id=6, name='teste3'), Tag(id=7, name='teste4')]\n",
      "{\n",
      "  \"id\": 1,\n",
      "  \"content\": \"Conteúdo do 1\",\n",
      "  \"updated_at\": \"2025-01-12T15:07:13.436745\",\n",
      "  \"title\": \"Post 1\",\n",
      "  \"created_at\": \"2025-01-12T15:07:13.436734\",\n",
      "  \"user_id\": 1\n",
      "}\n",
      "CPU times: user 54 ms, sys: 0 ns, total: 54 ms\n",
      "Wall time: 53 ms\n"
     ]
    }
   ],
   "source": [
    "%%time\n",
    "with Session(engine) as session:\n",
    "    post = session.get(Post, 1)\n",
    "    #statement = select(Post).where(Post.id == 1)\n",
    "    print(post.comments)\n",
    "    print(post.user)\n",
    "    print(post.tags)\n",
    "    print(post.model_dump_json(indent=2))"
   ]
  },
  {
   "cell_type": "code",
   "execution_count": 14,
   "metadata": {},
   "outputs": [
    {
     "name": "stderr",
     "output_type": "stream",
     "text": [
      "INFO:sqlalchemy.engine.Engine:BEGIN (implicit)\n",
      "INFO:sqlalchemy.engine.Engine:SELECT post.id, post.title, post.content, post.created_at, post.updated_at, post.user_id, user_1.id AS id_1, user_1.name, user_1.email, comment_1.id AS id_2, comment_1.content AS content_1, comment_1.created_at AS created_at_1, comment_1.updated_at AS updated_at_1, comment_1.post_id, comment_1.user_id AS user_id_1, tag_1.id AS id_3, tag_1.name AS name_1 \n",
      "FROM post LEFT OUTER JOIN user AS user_1 ON user_1.id = post.user_id LEFT OUTER JOIN comment AS comment_1 ON post.id = comment_1.post_id LEFT OUTER JOIN (posttag AS posttag_1 JOIN tag AS tag_1 ON tag_1.id = posttag_1.tag_id) ON post.id = posttag_1.post_id \n",
      "WHERE post.id = ?\n",
      "INFO:sqlalchemy.engine.Engine:[cached since 1.352e+04s ago] (1,)\n",
      "INFO:sqlalchemy.engine.Engine:ROLLBACK\n"
     ]
    },
    {
     "name": "stdout",
     "output_type": "stream",
     "text": [
      "{\n",
      "  \"id\": 1,\n",
      "  \"content\": \"Conteúdo do 1\",\n",
      "  \"updated_at\": \"2025-01-12T15:07:13.436745\",\n",
      "  \"title\": \"Post 1\",\n",
      "  \"created_at\": \"2025-01-12T15:07:13.436734\",\n",
      "  \"user_id\": 1\n",
      "}\n",
      "CPU times: user 7.25 ms, sys: 6.71 ms, total: 14 ms\n",
      "Wall time: 12.2 ms\n"
     ]
    }
   ],
   "source": [
    "%%time\n",
    "with Session(engine) as session:\n",
    "    #post = session.get(Post, 1)\n",
    "    statement = (select(Post).where(Post.id == 1)\n",
    "                 .options(joinedload(Post.user), joinedload(Post.comments), \n",
    "                          joinedload(Post.tags)))\n",
    "    #statement = select(Post).where(Post.id == 1)\n",
    "    post = session.exec(statement).first()\n",
    "    print(post.model_dump_json(indent=2))"
   ]
  },
  {
   "cell_type": "code",
   "execution_count": 15,
   "metadata": {},
   "outputs": [
    {
     "name": "stderr",
     "output_type": "stream",
     "text": [
      "INFO:sqlalchemy.engine.Engine:BEGIN (implicit)\n",
      "INFO:sqlalchemy.engine.Engine:SELECT post.id, post.title, post.content, post.created_at, post.updated_at, post.user_id \n",
      "FROM post \n",
      "WHERE post.id = ?\n",
      "INFO:sqlalchemy.engine.Engine:[cached since 1.324e+04s ago] (1,)\n",
      "INFO:sqlalchemy.engine.Engine:SELECT post_1.id AS post_1_id, tag.id AS tag_id, tag.name AS tag_name \n",
      "FROM post AS post_1 JOIN posttag AS posttag_1 ON post_1.id = posttag_1.post_id JOIN tag ON tag.id = posttag_1.tag_id \n",
      "WHERE post_1.id IN (?)\n",
      "INFO:sqlalchemy.engine.Engine:[cached since 1.324e+04s ago] (1,)\n",
      "INFO:sqlalchemy.engine.Engine:SELECT user.id AS user_id, user.name AS user_name, user.email AS user_email \n",
      "FROM user \n",
      "WHERE user.id IN (?)\n",
      "INFO:sqlalchemy.engine.Engine:[cached since 1.324e+04s ago] (1,)\n",
      "INFO:sqlalchemy.engine.Engine:SELECT comment.post_id AS comment_post_id, comment.id AS comment_id, comment.content AS comment_content, comment.created_at AS comment_created_at, comment.updated_at AS comment_updated_at, comment.user_id AS comment_user_id \n",
      "FROM comment \n",
      "WHERE comment.post_id IN (?)\n",
      "INFO:sqlalchemy.engine.Engine:[cached since 1.324e+04s ago] (1,)\n",
      "INFO:sqlalchemy.engine.Engine:ROLLBACK\n"
     ]
    },
    {
     "name": "stdout",
     "output_type": "stream",
     "text": [
      "id=1 content='Conteúdo do 1' updated_at=datetime.datetime(2025, 1, 12, 15, 7, 13, 436745) title='Post 1' created_at=datetime.datetime(2025, 1, 12, 15, 7, 13, 436734) user_id=1\n",
      "{\n",
      "  \"id\": 1,\n",
      "  \"content\": \"Conteúdo do 1\",\n",
      "  \"updated_at\": \"2025-01-12T15:07:13.436745\",\n",
      "  \"title\": \"Post 1\",\n",
      "  \"created_at\": \"2025-01-12T15:07:13.436734\",\n",
      "  \"user_id\": 1\n",
      "}\n",
      "CPU times: user 26.3 ms, sys: 9.05 ms, total: 35.3 ms\n",
      "Wall time: 34.2 ms\n"
     ]
    }
   ],
   "source": [
    "%%time\n",
    "with Session(engine) as session:\n",
    "    #post = session.get(Post, 1)\n",
    "    statement = (select(Post).where(Post.id == 1)\n",
    "                 .options(selectinload(Post.user), selectinload(Post.comments), \n",
    "                          selectinload(Post.tags)))\n",
    "    #statement = select(Post).where(Post.id == 1)\n",
    "    post = session.exec(statement).first()\n",
    "    print(post)\n",
    "    print(post.model_dump_json(indent=2))"
   ]
  },
  {
   "cell_type": "code",
   "execution_count": null,
   "metadata": {},
   "outputs": [],
   "source": [
    "%%time\n",
    "with Session(engine) as session:\n",
    "    #post = session.get(Post, 1)\n",
    "    statement = (select(Post).where(Post.id == 1)\n",
    "                 .options(selectinload(Post.user), selectinload(Post.comments), \n",
    "                          selectinload(Post.tags)))\n",
    "    #statement = select(Post).where(Post.id == 1)\n",
    "    post = session.exec(statement).first()\n",
    "    print(post)\n",
    "    print(post.model_dump_json(indent=2))"
   ]
  },
  {
   "cell_type": "code",
   "execution_count": 4,
   "metadata": {},
   "outputs": [
    {
     "name": "stderr",
     "output_type": "stream",
     "text": [
      "INFO:sqlalchemy.engine.Engine:BEGIN (implicit)\n",
      "INFO:sqlalchemy.engine.Engine:SELECT post.id, post.title, post.content, post.created_at, post.updated_at, post.user_id, user_1.id AS id_1, user_1.name, user_1.email, comment_1.id AS id_2, comment_1.content AS content_1, comment_1.created_at AS created_at_1, comment_1.updated_at AS updated_at_1, comment_1.post_id, comment_1.user_id AS user_id_1, tag_1.id AS id_3, tag_1.name AS name_1 \n",
      "FROM post LEFT OUTER JOIN user AS user_1 ON user_1.id = post.user_id LEFT OUTER JOIN comment AS comment_1 ON post.id = comment_1.post_id LEFT OUTER JOIN (posttag AS posttag_1 JOIN tag AS tag_1 ON tag_1.id = posttag_1.tag_id) ON post.id = posttag_1.post_id \n",
      "WHERE post.id = ?\n",
      "INFO:sqlalchemy.engine.Engine:[generated in 0.00200s] (1,)\n",
      "INFO:sqlalchemy.engine.Engine:SELECT user.id AS user_id, user.name AS user_name, user.email AS user_email \n",
      "FROM user \n",
      "WHERE user.id = ?\n",
      "INFO:sqlalchemy.engine.Engine:[generated in 0.00119s] (2,)\n",
      "INFO:sqlalchemy.engine.Engine:SELECT user.id AS user_id, user.name AS user_name, user.email AS user_email \n",
      "FROM user \n",
      "WHERE user.id = ?\n",
      "INFO:sqlalchemy.engine.Engine:[cached since 0.003895s ago] (3,)\n",
      "INFO:sqlalchemy.engine.Engine:SELECT user.id AS user_id, user.name AS user_name, user.email AS user_email \n",
      "FROM user \n",
      "WHERE user.id = ?\n",
      "INFO:sqlalchemy.engine.Engine:[cached since 0.005968s ago] (4,)\n",
      "INFO:sqlalchemy.engine.Engine:ROLLBACK\n"
     ]
    },
    {
     "name": "stdout",
     "output_type": "stream",
     "text": [
      "---------------------------------------------------------\n",
      "post: id=1 content='Conteúdo do 1' updated_at=datetime.datetime(2025, 1, 12, 15, 7, 13, 436745) title='Post 1' created_at=datetime.datetime(2025, 1, 12, 15, 7, 13, 436734) user_id=1\n",
      "post.user: id=1 email='joão@gmail.com' name='João'\n",
      "post.comments: [Comment(id=1, created_at=datetime.datetime(2025, 1, 12, 19, 24, 31, 403369), content='Commentário 1', post_id=1, updated_at=datetime.datetime(2025, 1, 12, 19, 24, 31, 403382), user_id=1), Comment(id=2, created_at=datetime.datetime(2025, 1, 12, 19, 25, 4, 426501), content='Commentário 2', post_id=1, updated_at=datetime.datetime(2025, 1, 12, 19, 25, 4, 426516), user_id=2), Comment(id=3, created_at=datetime.datetime(2025, 1, 12, 19, 25, 10, 911482), content='Commentário 3', post_id=1, updated_at=datetime.datetime(2025, 1, 12, 19, 25, 10, 911493), user_id=3), Comment(id=4, created_at=datetime.datetime(2025, 1, 12, 19, 25, 28, 470366), content='Commentário 4', post_id=1, updated_at=datetime.datetime(2025, 1, 12, 19, 25, 28, 470381), user_id=4), Comment(id=5, created_at=datetime.datetime(2025, 1, 12, 19, 46, 42, 435486), content='Commentário 5', post_id=1, updated_at=datetime.datetime(2025, 1, 12, 19, 46, 42, 435501), user_id=2)]\n",
      "post.tags: [Tag(id=1, name='geral'), Tag(id=2, name='TI'), Tag(id=3, name='IA'), Tag(id=4, name='teste'), Tag(id=5, name='teste2'), Tag(id=6, name='teste3'), Tag(id=7, name='teste4')]\n",
      "---------------------------------------------------------\n",
      "{\n",
      "  \"id\": 1,\n",
      "  \"content\": \"Conteúdo do 1\",\n",
      "  \"updated_at\": \"2025-01-12T15:07:13.436745\",\n",
      "  \"title\": \"Post 1\",\n",
      "  \"created_at\": \"2025-01-12T15:07:13.436734\",\n",
      "  \"user_id\": 1\n",
      "}\n",
      "---------------------------------------------------------\n",
      "{\n",
      "  \"id\": 1,\n",
      "  \"title\": \"Post 1\",\n",
      "  \"content\": \"Conteúdo do 1\",\n",
      "  \"created_at\": \"2025-01-12T15:07:13.436734\",\n",
      "  \"updated_at\": \"2025-01-12T15:07:13.436745\",\n",
      "  \"user\": {\n",
      "    \"id\": 1,\n",
      "    \"email\": \"joão@gmail.com\",\n",
      "    \"name\": \"João\"\n",
      "  },\n",
      "  \"comments\": [\n",
      "    {\n",
      "      \"id\": 1,\n",
      "      \"content\": \"Commentário 1\",\n",
      "      \"created_at\": \"2025-01-12T19:24:31.403369\",\n",
      "      \"updated_at\": \"2025-01-12T19:24:31.403382\",\n",
      "      \"user\": {\n",
      "        \"id\": 1,\n",
      "        \"email\": \"joão@gmail.com\",\n",
      "        \"name\": \"João\"\n",
      "      }\n",
      "    },\n",
      "    {\n",
      "      \"id\": 2,\n",
      "      \"content\": \"Commentário 2\",\n",
      "      \"created_at\": \"2025-01-12T19:25:04.426501\",\n",
      "      \"updated_at\": \"2025-01-12T19:25:04.426516\",\n",
      "      \"user\": {\n",
      "        \"id\": 2,\n",
      "        \"email\": \"maria@gmail.com\",\n",
      "        \"name\": \"Maria\"\n",
      "      }\n",
      "    },\n",
      "    {\n",
      "      \"id\": 3,\n",
      "      \"content\": \"Commentário 3\",\n",
      "      \"created_at\": \"2025-01-12T19:25:10.911482\",\n",
      "      \"updated_at\": \"2025-01-12T19:25:10.911493\",\n",
      "      \"user\": {\n",
      "        \"id\": 3,\n",
      "        \"email\": \"jose@gmail.com\",\n",
      "        \"name\": \"José\"\n",
      "      }\n",
      "    },\n",
      "    {\n",
      "      \"id\": 4,\n",
      "      \"content\": \"Commentário 4\",\n",
      "      \"created_at\": \"2025-01-12T19:25:28.470366\",\n",
      "      \"updated_at\": \"2025-01-12T19:25:28.470381\",\n",
      "      \"user\": {\n",
      "        \"id\": 4,\n",
      "        \"email\": \"regis@gmail.com\",\n",
      "        \"name\": \"Regis\"\n",
      "      }\n",
      "    },\n",
      "    {\n",
      "      \"id\": 5,\n",
      "      \"content\": \"Commentário 5\",\n",
      "      \"created_at\": \"2025-01-12T19:46:42.435486\",\n",
      "      \"updated_at\": \"2025-01-12T19:46:42.435501\",\n",
      "      \"user\": {\n",
      "        \"id\": 2,\n",
      "        \"email\": \"maria@gmail.com\",\n",
      "        \"name\": \"Maria\"\n",
      "      }\n",
      "    }\n",
      "  ],\n",
      "  \"tags\": [\n",
      "    {\n",
      "      \"id\": 1,\n",
      "      \"name\": \"geral\"\n",
      "    },\n",
      "    {\n",
      "      \"id\": 2,\n",
      "      \"name\": \"TI\"\n",
      "    },\n",
      "    {\n",
      "      \"id\": 3,\n",
      "      \"name\": \"IA\"\n",
      "    },\n",
      "    {\n",
      "      \"id\": 4,\n",
      "      \"name\": \"teste\"\n",
      "    },\n",
      "    {\n",
      "      \"id\": 5,\n",
      "      \"name\": \"teste2\"\n",
      "    },\n",
      "    {\n",
      "      \"id\": 6,\n",
      "      \"name\": \"teste3\"\n",
      "    },\n",
      "    {\n",
      "      \"id\": 7,\n",
      "      \"name\": \"teste4\"\n",
      "    }\n",
      "  ]\n",
      "}\n"
     ]
    }
   ],
   "source": [
    "with Session(engine) as session:\n",
    "    #post = session.get(Post, 1)\n",
    "    statement = (select(Post).where(Post.id == 1)\n",
    "                 .options(joinedload(Post.user), joinedload(Post.comments), \n",
    "                          joinedload(Post.tags)))\n",
    "    #statement = select(Post).where(Post.id == 1)\n",
    "    post = session.exec(statement).first()\n",
    "    print('---------------------------------------------------------')\n",
    "    print('post:', post)\n",
    "    print('post.user:', post.user)\n",
    "    print('post.comments:', post.comments)\n",
    "    print('post.tags:', post.tags)\n",
    "    print('---------------------------------------------------------')\n",
    "    print(post.model_dump_json(indent=2))\n",
    "    print('---------------------------------------------------------')\n",
    "    post2 = PostBaseWithUserCommentsTags(\n",
    "        **{k: v for k, v in post.__dict__.items() \n",
    "           if k in PostBaseWithUserCommentsTags.model_fields.keys()}\n",
    "    )\n",
    "    print(post2.model_dump_json(indent=2))"
   ]
  },
  {
   "cell_type": "code",
   "execution_count": null,
   "metadata": {},
   "outputs": [],
   "source": []
  }
 ],
 "metadata": {
  "kernelspec": {
   "display_name": ".venv",
   "language": "python",
   "name": "python3"
  },
  "language_info": {
   "codemirror_mode": {
    "name": "ipython",
    "version": 3
   },
   "file_extension": ".py",
   "mimetype": "text/x-python",
   "name": "python",
   "nbconvert_exporter": "python",
   "pygments_lexer": "ipython3",
   "version": "3.12.8"
  }
 },
 "nbformat": 4,
 "nbformat_minor": 2
}
