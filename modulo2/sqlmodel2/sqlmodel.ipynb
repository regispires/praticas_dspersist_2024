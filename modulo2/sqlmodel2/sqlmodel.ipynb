{
 "cells": [
  {
   "cell_type": "code",
   "execution_count": 1,
   "metadata": {},
   "outputs": [],
   "source": [
    "from sqlalchemy.orm import joinedload\n",
    "from sqlmodel import create_engine, Session, SQLModel, select\n",
    "from dotenv import load_dotenv\n",
    "import logging\n",
    "import os\n",
    "from modelos.post import Post, PostBaseWithUserCommentsTags"
   ]
  },
  {
   "cell_type": "code",
   "execution_count": 2,
   "metadata": {},
   "outputs": [],
   "source": [
    "logging.basicConfig()\n",
    "logging.getLogger(\"sqlalchemy.engine\").setLevel(logging.INFO)"
   ]
  },
  {
   "cell_type": "code",
   "execution_count": 3,
   "metadata": {},
   "outputs": [
    {
     "name": "stderr",
     "output_type": "stream",
     "text": [
      "INFO:sqlalchemy.engine.Engine:BEGIN (implicit)\n",
      "INFO:sqlalchemy.engine.Engine:PRAGMA main.table_info(\"comment\")\n",
      "INFO:sqlalchemy.engine.Engine:[raw sql] ()\n",
      "INFO:sqlalchemy.engine.Engine:PRAGMA main.table_info(\"user\")\n",
      "INFO:sqlalchemy.engine.Engine:[raw sql] ()\n",
      "INFO:sqlalchemy.engine.Engine:PRAGMA main.table_info(\"tag\")\n",
      "INFO:sqlalchemy.engine.Engine:[raw sql] ()\n",
      "INFO:sqlalchemy.engine.Engine:PRAGMA main.table_info(\"posttag\")\n",
      "INFO:sqlalchemy.engine.Engine:[raw sql] ()\n",
      "INFO:sqlalchemy.engine.Engine:PRAGMA main.table_info(\"post\")\n",
      "INFO:sqlalchemy.engine.Engine:[raw sql] ()\n",
      "INFO:sqlalchemy.engine.Engine:COMMIT\n"
     ]
    }
   ],
   "source": [
    "load_dotenv()\n",
    "engine = create_engine(os.getenv(\"DATABASE_URL\"))\n",
    "SQLModel.metadata.create_all(engine)"
   ]
  },
  {
   "cell_type": "code",
   "execution_count": 4,
   "metadata": {},
   "outputs": [
    {
     "name": "stderr",
     "output_type": "stream",
     "text": [
      "INFO:sqlalchemy.engine.Engine:BEGIN (implicit)\n",
      "INFO:sqlalchemy.engine.Engine:SELECT post.id, post.title, post.content, post.created_at, post.updated_at, post.user_id, user_1.id AS id_1, user_1.name, user_1.email, comment_1.id AS id_2, comment_1.content AS content_1, comment_1.created_at AS created_at_1, comment_1.updated_at AS updated_at_1, comment_1.post_id, comment_1.user_id AS user_id_1, tag_1.id AS id_3, tag_1.name AS name_1 \n",
      "FROM post LEFT OUTER JOIN user AS user_1 ON user_1.id = post.user_id LEFT OUTER JOIN comment AS comment_1 ON post.id = comment_1.post_id LEFT OUTER JOIN (posttag AS posttag_1 JOIN tag AS tag_1 ON tag_1.id = posttag_1.tag_id) ON post.id = posttag_1.post_id \n",
      "WHERE post.id = ?\n",
      "INFO:sqlalchemy.engine.Engine:[generated in 0.00124s] (1,)\n",
      "INFO:sqlalchemy.engine.Engine:ROLLBACK\n"
     ]
    },
    {
     "name": "stdout",
     "output_type": "stream",
     "text": [
      "---------------------------------------------------------\n",
      "post: title='Post 1' created_at=datetime.datetime(2025, 1, 12, 15, 7, 13, 436734) user_id=1 id=1 content='Conteúdo do 1' updated_at=datetime.datetime(2025, 1, 12, 15, 7, 13, 436745)\n",
      "post.user: email='joão@gmail.com' name='João' id=1\n",
      "post.comments: [Comment(post_id=1, user_id=1, created_at=datetime.datetime(2025, 1, 12, 19, 24, 31, 403369), id=1, content='Commentário 1', updated_at=datetime.datetime(2025, 1, 12, 19, 24, 31, 403382)), Comment(post_id=1, user_id=2, created_at=datetime.datetime(2025, 1, 12, 19, 25, 4, 426501), id=2, content='Commentário 2', updated_at=datetime.datetime(2025, 1, 12, 19, 25, 4, 426516)), Comment(post_id=1, user_id=3, created_at=datetime.datetime(2025, 1, 12, 19, 25, 10, 911482), id=3, content='Commentário 3', updated_at=datetime.datetime(2025, 1, 12, 19, 25, 10, 911493)), Comment(post_id=1, user_id=4, created_at=datetime.datetime(2025, 1, 12, 19, 25, 28, 470366), id=4, content='Commentário 4', updated_at=datetime.datetime(2025, 1, 12, 19, 25, 28, 470381)), Comment(post_id=1, user_id=2, created_at=datetime.datetime(2025, 1, 12, 19, 46, 42, 435486), id=5, content='Commentário 5', updated_at=datetime.datetime(2025, 1, 12, 19, 46, 42, 435501))]\n",
      "post.tags: [Tag(id=1, name='geral'), Tag(id=2, name='TI'), Tag(id=3, name='IA'), Tag(id=4, name='teste'), Tag(id=5, name='teste2'), Tag(id=6, name='teste3'), Tag(id=7, name='teste4')]\n",
      "---------------------------------------------------------\n",
      "{\n",
      "  \"title\": \"Post 1\",\n",
      "  \"created_at\": \"2025-01-12T15:07:13.436734\",\n",
      "  \"user_id\": 1,\n",
      "  \"id\": 1,\n",
      "  \"content\": \"Conteúdo do 1\",\n",
      "  \"updated_at\": \"2025-01-12T15:07:13.436745\"\n",
      "}\n",
      "---------------------------------------------------------\n",
      "{\n",
      "  \"id\": 1,\n",
      "  \"title\": \"Post 1\",\n",
      "  \"content\": \"Conteúdo do 1\",\n",
      "  \"created_at\": \"2025-01-12T15:07:13.436734\",\n",
      "  \"updated_at\": \"2025-01-12T15:07:13.436745\",\n",
      "  \"user\": {\n",
      "    \"email\": \"joão@gmail.com\",\n",
      "    \"name\": \"João\",\n",
      "    \"id\": 1\n",
      "  },\n",
      "  \"comments\": [\n",
      "    {\n",
      "      \"created_at\": \"2025-01-12T19:24:31.403369\",\n",
      "      \"id\": 1,\n",
      "      \"content\": \"Commentário 1\",\n",
      "      \"updated_at\": \"2025-01-12T19:24:31.403382\"\n",
      "    },\n",
      "    {\n",
      "      \"created_at\": \"2025-01-12T19:25:04.426501\",\n",
      "      \"id\": 2,\n",
      "      \"content\": \"Commentário 2\",\n",
      "      \"updated_at\": \"2025-01-12T19:25:04.426516\"\n",
      "    },\n",
      "    {\n",
      "      \"created_at\": \"2025-01-12T19:25:10.911482\",\n",
      "      \"id\": 3,\n",
      "      \"content\": \"Commentário 3\",\n",
      "      \"updated_at\": \"2025-01-12T19:25:10.911493\"\n",
      "    },\n",
      "    {\n",
      "      \"created_at\": \"2025-01-12T19:25:28.470366\",\n",
      "      \"id\": 4,\n",
      "      \"content\": \"Commentário 4\",\n",
      "      \"updated_at\": \"2025-01-12T19:25:28.470381\"\n",
      "    },\n",
      "    {\n",
      "      \"created_at\": \"2025-01-12T19:46:42.435486\",\n",
      "      \"id\": 5,\n",
      "      \"content\": \"Commentário 5\",\n",
      "      \"updated_at\": \"2025-01-12T19:46:42.435501\"\n",
      "    }\n",
      "  ],\n",
      "  \"tags\": [\n",
      "    {\n",
      "      \"id\": 1,\n",
      "      \"name\": \"geral\"\n",
      "    },\n",
      "    {\n",
      "      \"id\": 2,\n",
      "      \"name\": \"TI\"\n",
      "    },\n",
      "    {\n",
      "      \"id\": 3,\n",
      "      \"name\": \"IA\"\n",
      "    },\n",
      "    {\n",
      "      \"id\": 4,\n",
      "      \"name\": \"teste\"\n",
      "    },\n",
      "    {\n",
      "      \"id\": 5,\n",
      "      \"name\": \"teste2\"\n",
      "    },\n",
      "    {\n",
      "      \"id\": 6,\n",
      "      \"name\": \"teste3\"\n",
      "    },\n",
      "    {\n",
      "      \"id\": 7,\n",
      "      \"name\": \"teste4\"\n",
      "    }\n",
      "  ]\n",
      "}\n"
     ]
    }
   ],
   "source": [
    "with Session(engine) as session:\n",
    "    #post = session.get(Post, 1)\n",
    "    statement = select(Post).where(Post.id == 1).options(joinedload(Post.user), joinedload(Post.comments), joinedload(Post.tags))\n",
    "    #statement = select(Post).where(Post.id == 1)\n",
    "    post = session.exec(statement).first()\n",
    "    print('---------------------------------------------------------')\n",
    "    print('post:', post)\n",
    "    print('post.user:', post.user)\n",
    "    print('post.comments:', post.comments)\n",
    "    print('post.tags:', post.tags)\n",
    "    print('---------------------------------------------------------')\n",
    "    print(post.model_dump_json(indent=2))\n",
    "    print('---------------------------------------------------------')\n",
    "    post2 = PostBaseWithUserCommentsTags(\n",
    "        **{k: v for k, v in post.__dict__.items() if k in PostBaseWithUserCommentsTags.model_fields.keys()}\n",
    "    )\n",
    "    print(post2.model_dump_json(indent=2))"
   ]
  },
  {
   "cell_type": "code",
   "execution_count": null,
   "metadata": {},
   "outputs": [],
   "source": []
  }
 ],
 "metadata": {
  "kernelspec": {
   "display_name": ".venv",
   "language": "python",
   "name": "python3"
  },
  "language_info": {
   "codemirror_mode": {
    "name": "ipython",
    "version": 3
   },
   "file_extension": ".py",
   "mimetype": "text/x-python",
   "name": "python",
   "nbconvert_exporter": "python",
   "pygments_lexer": "ipython3",
   "version": "3.12.8"
  }
 },
 "nbformat": 4,
 "nbformat_minor": 2
}
